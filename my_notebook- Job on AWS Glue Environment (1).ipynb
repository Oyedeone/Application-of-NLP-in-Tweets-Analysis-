{
 "cells": [
  {
   "cell_type": "markdown",
   "metadata": {},
   "source": [
    "### Big_Data_Project in AWS Glue Environment\n"
   ]
  },
  {
   "cell_type": "markdown",
   "metadata": {},
   "source": [
    "# AWS Glue Studio Notebook\n",
    "##### You are now running a AWS Glue Studio notebook; To start using your notebook you need to start an AWS Glue Interactive Session.\n"
   ]
  },
  {
   "cell_type": "markdown",
   "metadata": {},
   "source": [
    "#### Optional: Run this cell to see available notebook commands (\"magics\").\n"
   ]
  },
  {
   "cell_type": "code",
   "execution_count": 19,
   "metadata": {},
   "outputs": [
    {
     "data": {
      "text/markdown": [
       "\n",
       "# Available Magic Commands\n",
       "\n",
       "## Sessions Magic\n",
       "\n",
       "----\n",
       "    %help                             Return a list of descriptions and input types for all magic commands. \n",
       "    %profile            String        Specify a profile in your aws configuration to use as the credentials provider.\n",
       "    %region             String        Specify the AWS region in which to initialize a session. \n",
       "                                      Default from ~/.aws/config on Linux or macOS, \n",
       "                                      or C:\\Users\\ USERNAME \\.aws\\config\" on Windows.\n",
       "    %idle_timeout       Int           The number of minutes of inactivity after which a session will timeout. \n",
       "                                      Default: 2880 minutes (48 hours).\n",
       "    %session_id_prefix  String        Define a String that will precede all session IDs in the format \n",
       "                                      [session_id_prefix]-[session_id]. If a session ID is not provided,\n",
       "                                      a random UUID will be generated.\n",
       "    %status                           Returns the status of the current Glue session including its duration, \n",
       "                                      configuration and executing user / role.\n",
       "    %session_id                       Returns the session ID for the running session. \n",
       "    %list_sessions                    Lists all currently running sessions by ID.\n",
       "    %stop_session                     Stops the current session.\n",
       "    %glue_version       String        The version of Glue to be used by this session. \n",
       "                                      Currently, the only valid options are 2.0 and 3.0. \n",
       "                                      Default: 2.0.\n",
       "----\n",
       "\n",
       "## Selecting Job Types\n",
       "\n",
       "----\n",
       "    %streaming          String        Sets the session type to Glue Streaming.\n",
       "    %etl                String        Sets the session type to Glue ETL.\n",
       "    %glue_ray           String        Sets the session type to Glue Ray.\n",
       "----\n",
       "\n",
       "## Glue Config Magic \n",
       "*(common across all job types)*\n",
       "\n",
       "----\n",
       "\n",
       "    %%configure         Dictionary    A json-formatted dictionary consisting of all configuration parameters for \n",
       "                                      a session. Each parameter can be specified here or through individual magics.\n",
       "    %iam_role           String        Specify an IAM role ARN to execute your session with.\n",
       "                                      Default from ~/.aws/config on Linux or macOS, \n",
       "                                      or C:\\Users\\%USERNAME%\\.aws\\config` on Windows.\n",
       "    %number_of_workers  int           The number of workers of a defined worker_type that are allocated \n",
       "                                      when a session runs.\n",
       "                                      Default: 5.\n",
       "    %additional_python_modules  List  Comma separated list of additional Python modules to include in your cluster \n",
       "                                      (can be from Pypi or S3).\n",
       "----\n",
       "\n",
       "                                      \n",
       "## Magic for Spark Jobs (ETL & Streaming)\n",
       "\n",
       "----\n",
       "    %worker_type        String        Set the type of instances the session will use as workers. \n",
       "                                      ETL and Streaming support G.1X and G.2X. \n",
       "                                      Default: G.1X.\n",
       "    %connections        List          Specify a comma separated list of connections to use in the session.\n",
       "    %extra_py_files     List          Comma separated list of additional Python files From S3.\n",
       "    %extra_jars         List          Comma separated list of additional Jars to include in the cluster.\n",
       "    %spark_conf         String        Specify custom spark configurations for your session. \n",
       "                                      E.g. %spark_conf spark.serializer=org.apache.spark.serializer.KryoSerializer\n",
       "----\n",
       "                                      \n",
       "## Magic for Ray Job\n",
       "\n",
       "----\n",
       "    %min_workers        Int           The minimum number of workers that are allocated to a Ray job. \n",
       "                                      Default: 1.\n",
       "    %object_memory_head Int           The percentage of free memory on the instance head node after a warm start. \n",
       "                                      Minimum: 0. Maximum: 100.\n",
       "    %object_memory_worker Int         The percentage of free memory on the instance worker nodes after a warm start. \n",
       "                                      Minimum: 0. Maximum: 100.\n",
       "----\n",
       "\n",
       "## Action Magic\n",
       "\n",
       "----\n",
       "\n",
       "    %%sql               String        Run SQL code. All lines after the initial %%sql magic will be passed\n",
       "                                      as part of the SQL code.  \n",
       "----\n",
       "\n"
      ]
     },
     "metadata": {},
     "output_type": "display_data"
    }
   ],
   "source": [
    "%help"
   ]
  },
  {
   "cell_type": "markdown",
   "metadata": {},
   "source": [
    "####  Run this cell to set up and start your interactive session.\n"
   ]
  },
  {
   "cell_type": "code",
   "execution_count": 2,
   "metadata": {},
   "outputs": [
    {
     "name": "stderr",
     "output_type": "stream",
     "text": [
      "You are already connected to a glueetl session de5500ae-409e-406e-a3f9-7b4cd0b83ff3.\n",
      "\n",
      "No change will be made to the current session that is set as glueetl. The session configuration change will apply to newly created sessions.\n"
     ]
    },
    {
     "name": "stdout",
     "output_type": "stream",
     "text": [
      "Current idle_timeout is 20 minutes.\n",
      "idle_timeout has been set to 20 minutes.\n"
     ]
    },
    {
     "name": "stderr",
     "output_type": "stream",
     "text": [
      "You are already connected to a glueetl session de5500ae-409e-406e-a3f9-7b4cd0b83ff3.\n",
      "\n",
      "No change will be made to the current session that is set as glueetl. The session configuration change will apply to newly created sessions.\n"
     ]
    },
    {
     "name": "stdout",
     "output_type": "stream",
     "text": [
      "Setting Glue version to: 3.0\n"
     ]
    },
    {
     "name": "stderr",
     "output_type": "stream",
     "text": [
      "You are already connected to a glueetl session de5500ae-409e-406e-a3f9-7b4cd0b83ff3.\n",
      "\n",
      "No change will be made to the current session that is set as glueetl. The session configuration change will apply to newly created sessions.\n"
     ]
    },
    {
     "name": "stdout",
     "output_type": "stream",
     "text": [
      "Previous worker type: G.1X\n",
      "Setting new worker type to: G.1X\n"
     ]
    },
    {
     "name": "stderr",
     "output_type": "stream",
     "text": [
      "You are already connected to a glueetl session de5500ae-409e-406e-a3f9-7b4cd0b83ff3.\n",
      "\n",
      "No change will be made to the current session that is set as glueetl. The session configuration change will apply to newly created sessions.\n"
     ]
    },
    {
     "name": "stdout",
     "output_type": "stream",
     "text": [
      "Previous number of workers: 2\n",
      "Setting new number of workers to: 2\n",
      "\n"
     ]
    }
   ],
   "source": [
    "%idle_timeout 20\n",
    "%glue_version 3.0\n",
    "%worker_type G.1X\n",
    "%number_of_workers 2\n",
    "\n",
    "import sys\n",
    "from awsglue.transforms import *\n",
    "from awsglue.utils import getResolvedOptions\n",
    "from pyspark.context import SparkContext\n",
    "from awsglue.context import GlueContext\n",
    "from awsglue.job import Job\n",
    "  \n",
    "sc = SparkContext.getOrCreate()\n",
    "glueContext = GlueContext(sc)\n",
    "spark = glueContext.spark_session\n",
    "job = Job(glueContext)"
   ]
  },
  {
   "cell_type": "code",
   "execution_count": 3,
   "metadata": {},
   "outputs": [
    {
     "name": "stdout",
     "output_type": "stream",
     "text": [
      "\n"
     ]
    }
   ],
   "source": [
    "from awsglue.dynamicframe import DynamicFrame"
   ]
  },
  {
   "cell_type": "markdown",
   "metadata": {},
   "source": [
    "#### Example: Create a DynamicFrame from a table in the AWS Glue Data Catalog and display its schema\n"
   ]
  },
  {
   "cell_type": "code",
   "execution_count": 4,
   "metadata": {},
   "outputs": [
    {
     "name": "stdout",
     "output_type": "stream",
     "text": [
      "root\n",
      "|-- : string\n",
      "|-- Date: string\n",
      "|-- Text: string\n",
      "|-- NumberOfcounts: string\n",
      "|-- NumberofLike:: string\n",
      "|-- NumofRetweet: string\n",
      "|-- user: string\n",
      "|-- Tinubu: string\n",
      "|-- Peter_Obi: string\n",
      "|-- PDP: string\n",
      "|-- APC: string\n",
      "|-- LP: string\n",
      "|-- Atiku: string\n",
      "|-- reprocessed: string\n",
      "|-- reprocessed text: string\n",
      "|-- compound: string\n",
      "|-- postive: string\n",
      "|-- negative: string\n",
      "|-- nuetral: string\n"
     ]
    }
   ],
   "source": [
    "dyf = glueContext.create_dynamic_frame.from_options( 's3',  {'paths': ['s3://myoyebucket/input/']}, 'csv', {'withHeader': True})\n",
    "dyf.printSchema()"
   ]
  },
  {
   "cell_type": "markdown",
   "metadata": {},
   "source": [
    "#### Example: Convert the DynamicFrame to a Spark DataFrame and display a sample of the data\n"
   ]
  },
  {
   "cell_type": "code",
   "execution_count": 5,
   "metadata": {},
   "outputs": [
    {
     "name": "stdout",
     "output_type": "stream",
     "text": [
      "+---+--------------------+--------------------+--------------+-------------+------------+--------------------+------+---------+---+---+---+-----+--------------------+--------------------+--------+-------+--------+-------+\n",
      "|   |                Date|                Text|NumberOfcounts|NumberofLike:|NumofRetweet|                user|Tinubu|Peter_Obi|PDP|APC| LP|Atiku|         reprocessed|    reprocessed text|compound|postive|negative|nuetral|\n",
      "+---+--------------------+--------------------+--------------+-------------+------------+--------------------+------+---------+---+---+---+-----+--------------------+--------------------+--------+-------+--------+-------+\n",
      "|  0|2023-03-09 10:45:...|@Observer_kay @Du...|             0|            1|           0|https://twitter.c...|      |         |   |   |   |     |observer_kay duke...|observer_kay duke...|     0.0|    0.0|     0.0|    1.0|\n",
      "|  1|2023-03-09 10:45:...|@B0lutife @oluwas...|             4|            3|           1|https://twitter.c...|      |Peter Obi|   |   |   |     |b0lutife oluwaseg...|b0lutife oluwaseg...|     0.0|    0.0|     0.0|    1.0|\n",
      "|  2|2023-03-09 10:44:...|@Nwalove3 @Lotus_...|             0|            0|           0|https://twitter.c...|      |Peter Obi|   |   |   |     |nwalove3 lotus_fl...|nwalove3 lotus_fl...|     0.0|    0.0|     0.0|    1.0|\n",
      "|  3|2023-03-09 10:44:...|My advice to you ...|             0|            0|           0|https://twitter.c...|      |         |   |   |   |     |advice grvs focus...|advice grvs focus...|  0.3412|  0.091|     0.0|  0.909|\n",
      "|  4|2023-03-09 10:44:...|@renoomokri Campa...|             0|            0|           0|https://twitter.c...|      |Peter Obi|   |   |   |     |renoomokri campai...|renoomokri campai...|  0.2263|   0.24|   0.182|  0.578|\n",
      "|  5|2023-03-09 10:44:...|I glanced through...|             5|           42|           5|https://twitter.c...|      |Peter Obi|   |   | LP|     |glanced girl medi...|glanced girl medi...|    -0.0|  0.198|   0.174|  0.628|\n",
      "|  6|2023-03-09 10:44:...|@ShehuSani Sir i ...|             0|            0|           0|https://twitter.c...|      |Peter Obi|   |   |   |     |shehusani sir fel...|shehusani sir fel...|  0.6124|  0.263|     0.0|  0.737|\n",
      "|  7|2023-03-09 10:44:...|@cbngov_akin1 @Ay...|             0|            2|           0|https://twitter.c...|      |Peter Obi|   |APC|   |     |cbngov_akin1 ayoo...|cbngov_akin1 ayoo...|  0.1027|  0.211|   0.201|  0.588|\n",
      "|  8|2023-03-09 10:44:...|@Didynne @IbkSpor...|             0|            0|           0|https://twitter.c...|      |Peter Obi|   |   |   |     |didynne ibksports...|didynne ibksports...|     0.0|    0.0|     0.0|    1.0|\n",
      "|  9|2023-03-09 10:44:...|@chimaobi_nteoma ...|             0|            5|           1|https://twitter.c...|      |Peter Obi|   |APC|   |     |chimaobi_nteoma l...|chimaobi_nteoma l...|  0.4939|  0.302|     0.0|  0.698|\n",
      "| 10|2023-03-09 10:44:...|@jrnaib2 Ooh, by ...|             0|            1|           0|https://twitter.c...|      |         |   |APC|   |     |jrnaib2 ooh , rig...|jrnaib2 ooh , rig...|  0.8225|  0.388|     0.0|  0.612|\n",
      "| 11|2023-03-09 10:44:...|@DailyPostNGR May...|             0|            0|           0|https://twitter.c...|      |Peter Obi|   |   |   |ATIKU|dailypostngr may ...|dailypostngr may ...| -0.7203|  0.221|   0.381|  0.397|\n",
      "| 12|2023-03-09 10:44:...|@emmy4life02 @chi...|             0|            9|           0|https://twitter.c...|      |Peter Obi|   |   | LP|     |emmy4life02 chiji...|emmy4life02 chiji...|  0.7711|  0.232|   0.056|  0.712|\n",
      "| 13|2023-03-09 10:44:...|Obi is not coming...|             0|            0|           0|https://twitter.c...|      |Peter Obi|   |   |   |     |obi coming ! 's p...|obi coming ! 's p...|  0.4389|  0.203|   0.093|  0.704|\n",
      "| 14|2023-03-09 10:44:...|@jidesanwoolu Sir...|             0|            0|           0|https://twitter.c...|      |         |   |   |   |     |jidesanwoolu sir ...|jidesanwoolu sir ...|     0.0|    0.0|     0.0|    1.0|\n",
      "| 15|2023-03-09 10:44:...|Peter Obi support...|             0|            0|           0|https://twitter.c...|      |Peter Obi|   |   |   |     |peter obi support...|peter obi support...|  0.6369|  0.321|     0.0|  0.679|\n",
      "| 16|2023-03-09 10:44:...|From Okada rider ...|             2|          101|          29|https://twitter.c...|      |Peter Obi|   |   | LP|     |okada rider feder...|okada rider feder...|  0.8718|  0.287|     0.0|  0.713|\n",
      "| 17|2023-03-09 10:44:...|Once a lady I’m l...|             0|            0|           0|https://twitter.c...|      |         |   |   |   |     |lady ’ liking tre...|lady ’ liking tre...|  0.6671|  0.486|   0.193|  0.321|\n",
      "| 18|2023-03-09 10:44:...|Lmao 😂 I’m Sorry...|             2|            1|           1|https://twitter.c...|      |Peter Obi|   |   |   |ATIKU|lmao : face_with_...|lmao : face_with_...|  0.2003|  0.184|   0.205|  0.612|\n",
      "| 19|2023-03-09 10:44:...|@realasu Oh Mary!...|             0|            3|           0|https://twitter.c...|      |         |   |   | LP|     |realasu oh mary !...|realasu oh mary !...|  0.4574|  0.374|     0.0|  0.626|\n",
      "+---+--------------------+--------------------+--------------+-------------+------------+--------------------+------+---------+---+---+---+-----+--------------------+--------------------+--------+-------+--------+-------+\n",
      "only showing top 20 rows\n"
     ]
    }
   ],
   "source": [
    "df = dyf.toDF()\n",
    "df.show()"
   ]
  },
  {
   "cell_type": "markdown",
   "metadata": {},
   "source": [
    "#### Example: Write the data in the DynamicFrame to a location in Amazon S3 and a table for it in the AWS Glue Data Catalog\n"
   ]
  },
  {
   "cell_type": "code",
   "execution_count": 6,
   "metadata": {},
   "outputs": [
    {
     "name": "stdout",
     "output_type": "stream",
     "text": [
      "+---+--------------------+--------------------+--------------+-------------+------------+--------------------+------+---------+---+---+---+-----+--------------------+--------------------+--------+-------+--------+-------+\n",
      "|   |                Date|                Text|NumberOfcounts|NumberofLike:|NumofRetweet|                user|Tinubu|Peter_Obi|PDP|APC| LP|Atiku|         reprocessed|    reprocessed text|compound|postive|negative|nuetral|\n",
      "+---+--------------------+--------------------+--------------+-------------+------------+--------------------+------+---------+---+---+---+-----+--------------------+--------------------+--------+-------+--------+-------+\n",
      "|  1|2023-03-09 10:45:...|@B0lutife @oluwas...|             4|            3|           1|https://twitter.c...|      |Peter Obi|   |   |   |     |b0lutife oluwaseg...|b0lutife oluwaseg...|     0.0|    0.0|     0.0|    1.0|\n",
      "|  2|2023-03-09 10:44:...|@Nwalove3 @Lotus_...|             0|            0|           0|https://twitter.c...|      |Peter Obi|   |   |   |     |nwalove3 lotus_fl...|nwalove3 lotus_fl...|     0.0|    0.0|     0.0|    1.0|\n",
      "|  4|2023-03-09 10:44:...|@renoomokri Campa...|             0|            0|           0|https://twitter.c...|      |Peter Obi|   |   |   |     |renoomokri campai...|renoomokri campai...|  0.2263|   0.24|   0.182|  0.578|\n",
      "|  5|2023-03-09 10:44:...|I glanced through...|             5|           42|           5|https://twitter.c...|      |Peter Obi|   |   | LP|     |glanced girl medi...|glanced girl medi...|    -0.0|  0.198|   0.174|  0.628|\n",
      "|  6|2023-03-09 10:44:...|@ShehuSani Sir i ...|             0|            0|           0|https://twitter.c...|      |Peter Obi|   |   |   |     |shehusani sir fel...|shehusani sir fel...|  0.6124|  0.263|     0.0|  0.737|\n",
      "|  7|2023-03-09 10:44:...|@cbngov_akin1 @Ay...|             0|            2|           0|https://twitter.c...|      |Peter Obi|   |APC|   |     |cbngov_akin1 ayoo...|cbngov_akin1 ayoo...|  0.1027|  0.211|   0.201|  0.588|\n",
      "|  8|2023-03-09 10:44:...|@Didynne @IbkSpor...|             0|            0|           0|https://twitter.c...|      |Peter Obi|   |   |   |     |didynne ibksports...|didynne ibksports...|     0.0|    0.0|     0.0|    1.0|\n",
      "|  9|2023-03-09 10:44:...|@chimaobi_nteoma ...|             0|            5|           1|https://twitter.c...|      |Peter Obi|   |APC|   |     |chimaobi_nteoma l...|chimaobi_nteoma l...|  0.4939|  0.302|     0.0|  0.698|\n",
      "| 11|2023-03-09 10:44:...|@DailyPostNGR May...|             0|            0|           0|https://twitter.c...|      |Peter Obi|   |   |   |ATIKU|dailypostngr may ...|dailypostngr may ...| -0.7203|  0.221|   0.381|  0.397|\n",
      "| 12|2023-03-09 10:44:...|@emmy4life02 @chi...|             0|            9|           0|https://twitter.c...|      |Peter Obi|   |   | LP|     |emmy4life02 chiji...|emmy4life02 chiji...|  0.7711|  0.232|   0.056|  0.712|\n",
      "| 13|2023-03-09 10:44:...|Obi is not coming...|             0|            0|           0|https://twitter.c...|      |Peter Obi|   |   |   |     |obi coming ! 's p...|obi coming ! 's p...|  0.4389|  0.203|   0.093|  0.704|\n",
      "| 15|2023-03-09 10:44:...|Peter Obi support...|             0|            0|           0|https://twitter.c...|      |Peter Obi|   |   |   |     |peter obi support...|peter obi support...|  0.6369|  0.321|     0.0|  0.679|\n",
      "| 16|2023-03-09 10:44:...|From Okada rider ...|             2|          101|          29|https://twitter.c...|      |Peter Obi|   |   | LP|     |okada rider feder...|okada rider feder...|  0.8718|  0.287|     0.0|  0.713|\n",
      "| 18|2023-03-09 10:44:...|Lmao 😂 I’m Sorry...|             2|            1|           1|https://twitter.c...|      |Peter Obi|   |   |   |ATIKU|lmao : face_with_...|lmao : face_with_...|  0.2003|  0.184|   0.205|  0.612|\n",
      "| 23|2023-03-09 10:44:...|@DrowsyRebel A st...|             1|            1|           1|https://twitter.c...|      |Peter Obi|   |   |   |     |drowsyrebel state...|drowsyrebel state...|  0.3054|  0.262|   0.208|  0.529|\n",
      "| 25|2023-03-09 10:43:...|@FbCruze @Annie_X...|             0|            0|           0|https://twitter.c...|      |Peter Obi|   |   |   |     |fbcruze annie_xox...|fbcruze annie_xox...|   0.296|   0.18|     0.0|   0.82|\n",
      "| 28|2023-03-09 10:43:...|Peter Obi Officia...|             0|            0|           0|https://twitter.c...|Tinubu|Peter Obi|   |   |   |     |peter obi officia...|peter obi officia...|     0.0|    0.0|     0.0|    1.0|\n",
      "| 31|2023-03-09 10:43:...|@Lotus_flower122 ...|             0|            0|           0|https://twitter.c...|      |Peter Obi|   |   |   |     |lotus_flower122 r...|lotus_flower122 r...|     0.0|    0.0|     0.0|    1.0|\n",
      "| 33|2023-03-09 10:43:...|During election, ...|             1|            1|           0|https://twitter.c...|      |Peter Obi|   |   |   |     |election , sharin...|election , sharin...|   0.636|  0.257|   0.099|  0.644|\n",
      "| 34|2023-03-09 10:43:...|From no structure...|             1|           53|          24|https://twitter.c...|      |Peter Obi|   |   |   |     |structure 6 senat...|structure 6 senat...|  0.4382|  0.261|     0.0|  0.739|\n",
      "+---+--------------------+--------------------+--------------+-------------+------------+--------------------+------+---------+---+---+---+-----+--------------------+--------------------+--------+-------+--------+-------+\n",
      "only showing top 20 rows\n"
     ]
    }
   ],
   "source": [
    "output_df = df.filter(df['Peter_Obi']=='Peter Obi')\n",
    "output_df.show()"
   ]
  },
  {
   "cell_type": "code",
   "execution_count": null,
   "metadata": {},
   "outputs": [],
   "source": []
  },
  {
   "cell_type": "code",
   "execution_count": null,
   "metadata": {},
   "outputs": [],
   "source": []
  },
  {
   "cell_type": "code",
   "execution_count": 7,
   "metadata": {},
   "outputs": [
    {
     "name": "stdout",
     "output_type": "stream",
     "text": [
      "{\"\": \"1\", \"Date\": \"2023-03-09 10:45:00+00:00\", \"Text\": \"@B0lutife @oluwasegunadeb The election of 18th March 2023, will throw up so many realignment. They are under the illusions that it was only their votes that gave Peter Obi victory during the presidential elections. Can they try what they are trying in the SW in the North?\", \"NumberOfcounts\": \"4\", \"NumberofLike:\": \"3\", \"NumofRetweet\": \"1\", \"user\": \"https://twitter.com/ctpnetwo\", \"Tinubu\": \"\", \"Peter_Obi\": \"Peter Obi\", \"PDP\": \"\", \"APC\": \"\", \"LP\": \"\", \"Atiku\": \"\", \"reprocessed\": \"b0lutife oluwasegunadeb election 18th march 2023 , throw many realignment . illusion vote gave peter obi victory presidential election . try trying sw north ?\", \"reprocessed text\": \"b0lutife oluwasegunadeb election 18th march 2023 , throw many realignment . illusion vote gave peter obi victory presidential election . try trying sw north ?\", \"compound\": \"0.0\", \"postive\": \"0.0\", \"negative\": \"0.0\", \"nuetral\": \"1.0\"}\n",
      "{\"\": \"2\", \"Date\": \"2023-03-09 10:44:52+00:00\", \"Text\": \"@Nwalove3 @Lotus_flower122 @RobinaxOg @Franeb Peter Obi and his team will do that,they’re not waiting for Mark\", \"NumberOfcounts\": \"0\", \"NumberofLike:\": \"0\", \"NumofRetweet\": \"0\", \"user\": \"https://twitter.com/cc_camara01\", \"Tinubu\": \"\", \"Peter_Obi\": \"Peter Obi\", \"PDP\": \"\", \"APC\": \"\", \"LP\": \"\", \"Atiku\": \"\", \"reprocessed\": \"nwalove3 lotus_flower122 robinaxog franeb peter obi team , ’ waiting mark\", \"reprocessed text\": \"nwalove3 lotus_flower122 robinaxog franeb peter obi team , ’ waiting mark\", \"compound\": \"0.0\", \"postive\": \"0.0\", \"negative\": \"0.0\", \"nuetral\": \"1.0\"}\n",
      "{\"\": \"4\", \"Date\": \"2023-03-09 10:44:49+00:00\", \"Text\": \"@renoomokri Campaign and election are over yet Obi is still living rent-free on your head. Your brothers are winning elections for HOR and SENATE but your own is to attack Peter Obi. I am not sure everything is still ok with you. SEE YOU SEE MADNESS\", \"NumberOfcounts\": \"0\", \"NumberofLike:\": \"0\", \"NumofRetweet\": \"0\", \"user\": \"https://twitter.com/TheTimeMAN_\", \"Tinubu\": \"\", \"Peter_Obi\": \"Peter Obi\", \"PDP\": \"\", \"APC\": \"\", \"LP\": \"\", \"Atiku\": \"\", \"reprocessed\": \"renoomokri campaign election yet obi still living rent-free head . brother winning election hor senate attack peter obi . sure everything still ok . see see madness\", \"reprocessed text\": \"renoomokri campaign election yet obi still living rent-free head . brother winning election hor senate attack peter obi . sure everything still ok . see see madness\", \"compound\": \"0.2263\", \"postive\": \"0.24\", \"negative\": \"0.182\", \"nuetral\": \"0.578\"}\n",
      "{\"\": \"5\", \"Date\": \"2023-03-09 10:44:49+00:00\", \"Text\": \"I glanced through this girl media, Peter Obi pictures full her media, it takes some minutes to see a picture of her. Please friendly advise to female Obidients, if you post PO picture, post yours, post PO, Post yours.. dey mix am. Make una dey help us.\", \"NumberOfcounts\": \"5\", \"NumberofLike:\": \"42\", \"NumofRetweet\": \"5\", \"user\": \"https://twitter.com/OkoyeCardinal\", \"Tinubu\": \"\", \"Peter_Obi\": \"Peter Obi\", \"PDP\": \"\", \"APC\": \"\", \"LP\": \"LP\", \"Atiku\": \"\", \"reprocessed\": \"glanced girl medium , peter obi picture full medium , take minute see picture . please friendly advise female obidients , post po picture , post , post po , post .. dey mix . make una dey help u .\", \"reprocessed text\": \"glanced girl medium , peter obi picture full medium , take minute see picture . please friendly advise female obidients , post po picture , post , post po , post .. dey mix . make una dey help u .\", \"compound\": \"-0.0\", \"postive\": \"0.198\", \"negative\": \"0.174\", \"nuetral\": \"0.628\"}\n",
      "{\"\": \"6\", \"Date\": \"2023-03-09 10:44:42+00:00\", \"Text\": \"@ShehuSani Sir i have been fellowing your tweet's lately \n",
      "In truth it's not him (Peter obi)  people just wish to be normal in this not really sane country\", \"NumberOfcounts\": \"0\", \"NumberofLike:\": \"0\", \"NumofRetweet\": \"0\", \"user\": \"https://twitter.com/FrankOti95\", \"Tinubu\": \"\", \"Peter_Obi\": \"Peter Obi\", \"PDP\": \"\", \"APC\": \"\", \"LP\": \"\", \"Atiku\": \"\", \"reprocessed\": \"shehusani sir fellowing tweet 's lately truth 's ( peter obi ) people wish normal really sane country\", \"reprocessed text\": \"shehusani sir fellowing tweet 's lately truth 's ( peter obi ) people wish normal really sane country\", \"compound\": \"0.6124\", \"postive\": \"0.263\", \"negative\": \"0.0\", \"nuetral\": \"0.737\"}\n",
      "{\"\": \"7\", \"Date\": \"2023-03-09 10:44:39+00:00\", \"Text\": \"@cbngov_akin1 @AyoOyalowo @woye1 @fkeyamo @realFFK @officialABAT @OfficialDSSNG @Equityoyo @instablog9ja @Mr_JAGs @Journalist_Mind Lol. CORNfused APC miscreants will not cease to amaze us. \n",
      "\n",
      "Someone obviously from SS, foolishly disguising as an Igbo man just to attack Peter Obi. \n",
      "\n",
      "Try again, we can all see the truth in your lies.\", \"NumberOfcounts\": \"0\", \"NumberofLike:\": \"2\", \"NumofRetweet\": \"0\", \"user\": \"https://twitter.com/Realemmans\", \"Tinubu\": \"\", \"Peter_Obi\": \"Peter Obi\", \"PDP\": \"\", \"APC\": \"APC\", \"LP\": \"\", \"Atiku\": \"\", \"reprocessed\": \"cbngov_akin1 ayooyalowo woye1 fkeyamo realffk officialabat officialdssng equityoyo instablog9ja mr_jags journalist_mind lol . cornfused apc miscreant cease amaze u . someone obviously s , foolishly disguising igbo man attack peter obi . try , see truth lie .\", \"reprocessed text\": \"cbngov_akin1 ayooyalowo woye1 fkeyamo realffk officialabat officialdssng equityoyo instablog9ja mr_jags journalist_mind lol . cornfused apc miscreant cease amaze u . someone obviously s , foolishly disguising igbo man attack peter obi . try , see truth lie .\", \"compound\": \"0.1027\", \"postive\": \"0.211\", \"negative\": \"0.201\", \"nuetral\": \"0.588\"}\n",
      "{\"\": \"8\", \"Date\": \"2023-03-09 10:44:37+00:00\", \"Text\": \"@Didynne @IbkSports The same person HE Peter Obi when he contested for Gubernatorial election 2003. He won but it was given to Dr Chris Ngige.\", \"NumberOfcounts\": \"0\", \"NumberofLike:\": \"0\", \"NumofRetweet\": \"0\", \"user\": \"https://twitter.com/Godwinz_Gate\", \"Tinubu\": \"\", \"Peter_Obi\": \"Peter Obi\", \"PDP\": \"\", \"APC\": \"\", \"LP\": \"\", \"Atiku\": \"\", \"reprocessed\": \"didynne ibksports person peter obi contested gubernatorial election 2003. given dr chris ngige .\", \"reprocessed text\": \"didynne ibksports person peter obi contested gubernatorial election 2003. given dr chris ngige .\", \"compound\": \"0.0\", \"postive\": \"0.0\", \"negative\": \"0.0\", \"nuetral\": \"1.0\"}\n",
      "{\"\": \"9\", \"Date\": \"2023-03-09 10:44:34+00:00\", \"Text\": \"@chimaobi_nteoma @Leonard50310709 @markessien APC guys keep playing you people. When will you learn?\n",
      "\n",
      "Allow Peter Obi and his legal team do their job\", \"NumberOfcounts\": \"0\", \"NumberofLike:\": \"5\", \"NumofRetweet\": \"1\", \"user\": \"https://twitter.com/hamstringFCB\", \"Tinubu\": \"\", \"Peter_Obi\": \"Peter Obi\", \"PDP\": \"\", \"APC\": \"APC\", \"LP\": \"\", \"Atiku\": \"\", \"reprocessed\": \"chimaobi_nteoma leonard50310709 markessien apc guy keep playing people . learn ? allow peter obi legal team job\", \"reprocessed text\": \"chimaobi_nteoma leonard50310709 markessien apc guy keep playing people . learn ? allow peter obi legal team job\", \"compound\": \"0.4939\", \"postive\": \"0.302\", \"negative\": \"0.0\", \"nuetral\": \"0.698\"}\n",
      "{\"\": \"11\", \"Date\": \"2023-03-09 10:44:27+00:00\", \"Text\": \"@DailyPostNGR May God forgive you. You're deception personified. So Atiku didn't rig abi? We know Peter Obi. He is incapable of fraud!\", \"NumberOfcounts\": \"0\", \"NumberofLike:\": \"0\", \"NumofRetweet\": \"0\", \"user\": \"https://twitter.com/officialwine6\", \"Tinubu\": \"\", \"Peter_Obi\": \"Peter Obi\", \"PDP\": \"\", \"APC\": \"\", \"LP\": \"\", \"Atiku\": \"ATIKU\", \"reprocessed\": \"dailypostngr may god forgive . 're deception personified . atiku n't rig abi ? know peter obi . incapable fraud !\", \"reprocessed text\": \"dailypostngr may god forgive . 're deception personified . atiku n't rig abi ? know peter obi . incapable fraud !\", \"compound\": \"-0.7203\", \"postive\": \"0.221\", \"negative\": \"0.381\", \"nuetral\": \"0.397\"}\n",
      "{\"\": \"12\", \"Date\": \"2023-03-09 10:44:26+00:00\", \"Text\": \"@emmy4life02 @chijioke_edeoga There is no need to jitter. He's the chosen one. But I don't like when people say I quote you, \\\"You think Peter Obi popularity was the reason LP got more 80%\\\" and my answer to that is YES. Edeoga did what he did for his own benefit, which if Peter had not emerged, he wouldn't fly\", \"NumberOfcounts\": \"0\", \"NumberofLike:\": \"9\", \"NumofRetweet\": \"0\", \"user\": \"https://twitter.com/nnolim1\", \"Tinubu\": \"\", \"Peter_Obi\": \"Peter Obi\", \"PDP\": \"\", \"APC\": \"\", \"LP\": \"LP\", \"Atiku\": \"\", \"reprocessed\": \"emmy4life02 chijioke_edeoga need jitter . 's chosen one . n't like people say quote , `` think peter obi popularity reason lp got 80 % '' answer yes . edeoga benefit , peter emerged , would n't fly\", \"reprocessed text\": \"emmy4life02 chijioke_edeoga need jitter . 's chosen one . n't like people say quote , `` think peter obi popularity reason lp got 80 % '' answer yes . edeoga benefit , peter emerged , would n't fly\", \"compound\": \"0.7711\", \"postive\": \"0.232\", \"negative\": \"0.056\", \"nuetral\": \"0.712\"}\n",
      "{\"\": \"13\", \"Date\": \"2023-03-09 10:44:15+00:00\", \"Text\": \"Obi is not coming! That's the pain of Peter Obi bcuz the Presidency rotationally will be coming back to the South after 16yrs. Then Obi will be 80yr+. I think SE shld play gud politics and go prepare well. And not play the ethnic religious politics 🤷\", \"NumberOfcounts\": \"0\", \"NumberofLike:\": \"0\", \"NumofRetweet\": \"0\", \"user\": \"https://twitter.com/GbolahanOshodi\", \"Tinubu\": \"\", \"Peter_Obi\": \"Peter Obi\", \"PDP\": \"\", \"APC\": \"\", \"LP\": \"\", \"Atiku\": \"\", \"reprocessed\": \"obi coming ! 's pain peter obi bcuz presidency rotationally coming back south 16yrs . obi 80yr+ . think se shld play gud politics go prepare well . play ethnic religious politics : person_shrugging :\", \"reprocessed text\": \"obi coming ! 's pain peter obi bcuz presidency rotationally coming back south 16yrs . obi 80yr+ . think se shld play gud politics go prepare well . play ethnic religious politics : person_shrugging :\", \"compound\": \"0.4389\", \"postive\": \"0.203\", \"negative\": \"0.093\", \"nuetral\": \"0.704\"}\n",
      "{\"\": \"15\", \"Date\": \"2023-03-09 10:44:14+00:00\", \"Text\": \"Peter Obi supporters react to the presidential candidate asking that they respect court premises.\n",
      "#peterobi https://t.co/MaSAP6ArYh\", \"NumberOfcounts\": \"0\", \"NumberofLike:\": \"0\", \"NumofRetweet\": \"0\", \"user\": \"https://twitter.com/melodyinter1\", \"Tinubu\": \"\", \"Peter_Obi\": \"Peter Obi\", \"PDP\": \"\", \"APC\": \"\", \"LP\": \"\", \"Atiku\": \"\", \"reprocessed\": \"peter obi supporter react presidential candidate asking respect court premise . # peterobi http : //t.co/masap6aryh\", \"reprocessed text\": \"peter obi supporter react presidential candidate asking respect court premise . # peterobi http : //t.co/masap6aryh\", \"compound\": \"0.6369\", \"postive\": \"0.321\", \"negative\": \"0.0\", \"nuetral\": \"0.679\"}\n",
      "{\"\": \"16\", \"Date\": \"2023-03-09 10:44:11+00:00\", \"Text\": \"From Okada rider to a Federal Lawmaker. The Peter Obi Effect!\n",
      "Hon Donatus Matthew of Kaura Fed. Constituency, Kaduna State gets his certificate of return as he thanks Peter Obi.\n",
      "Thank You Labour Party \n",
      "Thank You Obidient Nigerians\n",
      "We are making history https://t.co/O4qgdij0ks\", \"NumberOfcounts\": \"2\", \"NumberofLike:\": \"101\", \"NumofRetweet\": \"29\", \"user\": \"https://twitter.com/EmetuLife\", \"Tinubu\": \"\", \"Peter_Obi\": \"Peter Obi\", \"PDP\": \"\", \"APC\": \"\", \"LP\": \"LP\", \"Atiku\": \"\", \"reprocessed\": \"okada rider federal lawmaker . peter obi effect ! hon donatus matthew kaura fed . constituency , kaduna state get certificate return thanks peter obi . thank labour party thank obidient nigerian making history http : //t.co/o4qgdij0ks\", \"reprocessed text\": \"okada rider federal lawmaker . peter obi effect ! hon donatus matthew kaura fed . constituency , kaduna state get certificate return thanks peter obi . thank labour party thank obidient nigerian making history http : //t.co/o4qgdij0ks\", \"compound\": \"0.8718\", \"postive\": \"0.287\", \"negative\": \"0.0\", \"nuetral\": \"0.713\"}\n",
      "{\"\": \"18\", \"Date\": \"2023-03-09 10:44:08+00:00\", \"Text\": \"Lmao 😂 I’m Sorry but a lot of you on this team were honestly d^mb AF! All because you guys just wanted to Denigrate PO. \n",
      "\n",
      "Look now, can’t imagine how ridiculous you feel. even your Governorship candidate Jandor has Peter Obi’s picture in his campaign jingle not Atiku. Clowns 🤡\", \"NumberOfcounts\": \"2\", \"NumberofLike:\": \"1\", \"NumofRetweet\": \"1\", \"user\": \"https://twitter.com/RaezyWinston\", \"Tinubu\": \"\", \"Peter_Obi\": \"Peter Obi\", \"PDP\": \"\", \"APC\": \"\", \"LP\": \"\", \"Atiku\": \"ATIKU\", \"reprocessed\": \"lmao : face_with_tears_of_joy : ’ sorry lot team honestly d^mb af ! guy wanted denigrate po . look , ’ imagine ridiculous feel . even governorship candidate jandor peter obi ’ picture campaign jingle atiku . clown : clown_face :\", \"reprocessed text\": \"lmao : face_with_tears_of_joy : ’ sorry lot team honestly d^mb af ! guy wanted denigrate po . look , ’ imagine ridiculous feel . even governorship candidate jandor peter obi ’ picture campaign jingle atiku . clown : clown_face :\", \"compound\": \"0.2003\", \"postive\": \"0.184\", \"negative\": \"0.205\", \"nuetral\": \"0.612\"}\n",
      "{\"\": \"23\", \"Date\": \"2023-03-09 10:44:01+00:00\", \"Text\": \"@DrowsyRebel A state like Benue giving most of its votes to a Muslim-Muslim ticket is not nothing. Clearly, a lot of Christians don’t buy the nonsense. We have enough strength and alliances right now to permanently comfortably keep Peter Obi’s brand of hate outside the main halls of power.\", \"NumberOfcounts\": \"1\", \"NumberofLike:\": \"1\", \"NumofRetweet\": \"1\", \"user\": \"https://twitter.com/IbnAbdulMalik__\", \"Tinubu\": \"\", \"Peter_Obi\": \"Peter Obi\", \"PDP\": \"\", \"APC\": \"\", \"LP\": \"\", \"Atiku\": \"\", \"reprocessed\": \"drowsyrebel state like benue giving vote muslim-muslim ticket nothing . clearly , lot christian ’ buy nonsense . enough strength alliance right permanently comfortably keep peter obi ’ brand hate outside main hall power .\", \"reprocessed text\": \"drowsyrebel state like benue giving vote muslim-muslim ticket nothing . clearly , lot christian ’ buy nonsense . enough strength alliance right permanently comfortably keep peter obi ’ brand hate outside main hall power .\", \"compound\": \"0.3054\", \"postive\": \"0.262\", \"negative\": \"0.208\", \"nuetral\": \"0.529\"}\n",
      "{\"\": \"25\", \"Date\": \"2023-03-09 10:43:57+00:00\", \"Text\": \"@FbCruze @Annie_Xoxo2 @omo_olobikan Yeah that the experience Peter obi needs politically- Obi is a Boy\", \"NumberOfcounts\": \"0\", \"NumberofLike:\": \"0\", \"NumofRetweet\": \"0\", \"user\": \"https://twitter.com/Mayoroflagos001\", \"Tinubu\": \"\", \"Peter_Obi\": \"Peter Obi\", \"PDP\": \"\", \"APC\": \"\", \"LP\": \"\", \"Atiku\": \"\", \"reprocessed\": \"fbcruze annie_xoxo2 omo_olobikan yeah experience peter obi need politically- obi boy\", \"reprocessed text\": \"fbcruze annie_xoxo2 omo_olobikan yeah experience peter obi need politically- obi boy\", \"compound\": \"0.296\", \"postive\": \"0.18\", \"negative\": \"0.0\", \"nuetral\": \"0.82\"}\n",
      "{\"\": \"28\", \"Date\": \"2023-03-09 10:43:51+00:00\", \"Text\": \"Peter Obi Officially Sues INEC, Tinubu to Court https://t.co/5BR7onVMSH (From Phoenix APP) https://t.co/tqf64jguIH\", \"NumberOfcounts\": \"0\", \"NumberofLike:\": \"0\", \"NumofRetweet\": \"0\", \"user\": \"https://twitter.com/Olaminiyi17\", \"Tinubu\": \"Tinubu\", \"Peter_Obi\": \"Peter Obi\", \"PDP\": \"\", \"APC\": \"\", \"LP\": \"\", \"Atiku\": \"\", \"reprocessed\": \"peter obi officially sue inec , tinubu court http : //t.co/5br7onvmsh ( phoenix app ) http : //t.co/tqf64jguih\", \"reprocessed text\": \"peter obi officially sue inec , tinubu court http : //t.co/5br7onvmsh ( phoenix app ) http : //t.co/tqf64jguih\", \"compound\": \"0.0\", \"postive\": \"0.0\", \"negative\": \"0.0\", \"nuetral\": \"1.0\"}\n",
      "{\"\": \"31\", \"Date\": \"2023-03-09 10:43:26+00:00\", \"Text\": \"@Lotus_flower122 @RobinaxOg @Franeb Peter Obi is not waiting for him to comply the data\", \"NumberOfcounts\": \"0\", \"NumberofLike:\": \"0\", \"NumofRetweet\": \"0\", \"user\": \"https://twitter.com/cc_camara01\", \"Tinubu\": \"\", \"Peter_Obi\": \"Peter Obi\", \"PDP\": \"\", \"APC\": \"\", \"LP\": \"\", \"Atiku\": \"\", \"reprocessed\": \"lotus_flower122 robinaxog franeb peter obi waiting comply data\", \"reprocessed text\": \"lotus_flower122 robinaxog franeb peter obi waiting comply data\", \"compound\": \"0.0\", \"postive\": \"0.0\", \"negative\": \"0.0\", \"nuetral\": \"1.0\"}\n",
      "{\"\": \"33\", \"Date\": \"2023-03-09 10:43:20+00:00\", \"Text\": \"During election, he was sharing videos that there was no voting in the south east, in compliance with the sit-at-home &amp; now he comes &amp; complains about the election outcome after costing Peter Obi precious votes in the east?!\", \"NumberOfcounts\": \"1\", \"NumberofLike:\": \"1\", \"NumofRetweet\": \"0\", \"user\": \"https://twitter.com/Nfeeltraita\", \"Tinubu\": \"\", \"Peter_Obi\": \"Peter Obi\", \"PDP\": \"\", \"APC\": \"\", \"LP\": \"\", \"Atiku\": \"\", \"reprocessed\": \"election , sharing video voting south east , compliance sit-at-home & amp ; come & amp ; complains election outcome costing peter obi precious vote east ? !\", \"reprocessed text\": \"election , sharing video voting south east , compliance sit-at-home & amp ; come & amp ; complains election outcome costing peter obi precious vote east ? !\", \"compound\": \"0.636\", \"postive\": \"0.257\", \"negative\": \"0.099\", \"nuetral\": \"0.644\"}\n",
      "{\"\": \"34\", \"Date\": \"2023-03-09 10:43:18+00:00\", \"Text\": \"From no structures to 6 Senators and 34 House of Representatives members.\n",
      "Never Underestimate a man Loaded with Vision. @PeterObi 🙌\", \"NumberOfcounts\": \"1\", \"NumberofLike:\": \"53\", \"NumofRetweet\": \"24\", \"user\": \"https://twitter.com/BethyWrite\", \"Tinubu\": \"\", \"Peter_Obi\": \"Peter Obi\", \"PDP\": \"\", \"APC\": \"\", \"LP\": \"\", \"Atiku\": \"\", \"reprocessed\": \"structure 6 senator 34 house representative member . never underestimate man loaded vision . peterobi : raising_hands :\", \"reprocessed text\": \"structure 6 senator 34 house representative member . never underestimate man loaded vision . peterobi : raising_hands :\", \"compound\": \"0.4382\", \"postive\": \"0.261\", \"negative\": \"0.0\", \"nuetral\": \"0.739\"}\n"
     ]
    }
   ],
   "source": [
    "#Convert from Spark Data Frame to Glue Dynamic Frame\n",
    "dyfCustomersConvert = DynamicFrame.fromDF(output_df, glueContext, \"convert\")\n",
    "\n",
    "#Show converted Glue Dynamic Frame\n",
    "dyfCustomersConvert.show()"
   ]
  },
  {
   "cell_type": "code",
   "execution_count": 8,
   "metadata": {},
   "outputs": [
    {
     "name": "stdout",
     "output_type": "stream",
     "text": [
      "+--------------------+--------------+-------------+--------+--------+-------+-------+\n",
      "|    reprocessed text|NumberOfcounts|NumberofLike:|compound|negative|postive|nuetral|\n",
      "+--------------------+--------------+-------------+--------+--------+-------+-------+\n",
      "|b0lutife oluwaseg...|             4|            3|     0.0|     0.0|    0.0|    1.0|\n",
      "|nwalove3 lotus_fl...|             0|            0|     0.0|     0.0|    0.0|    1.0|\n",
      "|renoomokri campai...|             0|            0|  0.2263|   0.182|   0.24|  0.578|\n",
      "|glanced girl medi...|             5|           42|    -0.0|   0.174|  0.198|  0.628|\n",
      "|shehusani sir fel...|             0|            0|  0.6124|     0.0|  0.263|  0.737|\n",
      "|cbngov_akin1 ayoo...|             0|            2|  0.1027|   0.201|  0.211|  0.588|\n",
      "|didynne ibksports...|             0|            0|     0.0|     0.0|    0.0|    1.0|\n",
      "|chimaobi_nteoma l...|             0|            5|  0.4939|     0.0|  0.302|  0.698|\n",
      "|dailypostngr may ...|             0|            0| -0.7203|   0.381|  0.221|  0.397|\n",
      "|emmy4life02 chiji...|             0|            9|  0.7711|   0.056|  0.232|  0.712|\n",
      "|obi coming ! 's p...|             0|            0|  0.4389|   0.093|  0.203|  0.704|\n",
      "|peter obi support...|             0|            0|  0.6369|     0.0|  0.321|  0.679|\n",
      "|okada rider feder...|             2|          101|  0.8718|     0.0|  0.287|  0.713|\n",
      "|lmao : face_with_...|             2|            1|  0.2003|   0.205|  0.184|  0.612|\n",
      "|drowsyrebel state...|             1|            1|  0.3054|   0.208|  0.262|  0.529|\n",
      "|fbcruze annie_xox...|             0|            0|   0.296|     0.0|   0.18|   0.82|\n",
      "|peter obi officia...|             0|            0|     0.0|     0.0|    0.0|    1.0|\n",
      "|lotus_flower122 r...|             0|            0|     0.0|     0.0|    0.0|    1.0|\n",
      "|election , sharin...|             1|            1|   0.636|   0.099|  0.257|  0.644|\n",
      "|structure 6 senat...|             1|           53|  0.4382|     0.0|  0.261|  0.739|\n",
      "+--------------------+--------------+-------------+--------+--------+-------+-------+\n",
      "only showing top 20 rows\n"
     ]
    }
   ],
   "source": [
    "output_df=output_df.select(['reprocessed text','NumberOfcounts','NumberofLike:','compound','negative','postive','nuetral'])\n",
    "output_df.show()"
   ]
  },
  {
   "cell_type": "code",
   "execution_count": 9,
   "metadata": {},
   "outputs": [
    {
     "name": "stdout",
     "output_type": "stream",
     "text": [
      "+--------------------+--------+--------+-------+-------+\n",
      "|    reprocessed text|compound|negative|postive|nuetral|\n",
      "+--------------------+--------+--------+-------+-------+\n",
      "|b0lutife oluwaseg...|     0.0|     0.0|    0.0|    1.0|\n",
      "|nwalove3 lotus_fl...|     0.0|     0.0|    0.0|    1.0|\n",
      "|renoomokri campai...|  0.2263|   0.182|   0.24|  0.578|\n",
      "|glanced girl medi...|    -0.0|   0.174|  0.198|  0.628|\n",
      "|shehusani sir fel...|  0.6124|     0.0|  0.263|  0.737|\n",
      "|cbngov_akin1 ayoo...|  0.1027|   0.201|  0.211|  0.588|\n",
      "|didynne ibksports...|     0.0|     0.0|    0.0|    1.0|\n",
      "|chimaobi_nteoma l...|  0.4939|     0.0|  0.302|  0.698|\n",
      "|dailypostngr may ...| -0.7203|   0.381|  0.221|  0.397|\n",
      "|emmy4life02 chiji...|  0.7711|   0.056|  0.232|  0.712|\n",
      "|obi coming ! 's p...|  0.4389|   0.093|  0.203|  0.704|\n",
      "|peter obi support...|  0.6369|     0.0|  0.321|  0.679|\n",
      "|okada rider feder...|  0.8718|     0.0|  0.287|  0.713|\n",
      "|lmao : face_with_...|  0.2003|   0.205|  0.184|  0.612|\n",
      "|drowsyrebel state...|  0.3054|   0.208|  0.262|  0.529|\n",
      "|fbcruze annie_xox...|   0.296|     0.0|   0.18|   0.82|\n",
      "|peter obi officia...|     0.0|     0.0|    0.0|    1.0|\n",
      "|lotus_flower122 r...|     0.0|     0.0|    0.0|    1.0|\n",
      "|election , sharin...|   0.636|   0.099|  0.257|  0.644|\n",
      "|structure 6 senat...|  0.4382|     0.0|  0.261|  0.739|\n",
      "+--------------------+--------+--------+-------+-------+\n",
      "only showing top 20 rows\n"
     ]
    }
   ],
   "source": [
    "output_df=output_df.drop('NumberOfcounts','NumberofLike:')\n",
    "output_df.show()"
   ]
  },
  {
   "cell_type": "code",
   "execution_count": 10,
   "metadata": {},
   "outputs": [
    {
     "name": "stdout",
     "output_type": "stream",
     "text": [
      "+--------------------+--------+\n",
      "|    reprocessed text|compound|\n",
      "+--------------------+--------+\n",
      "|renoomokri campai...|  0.2263|\n",
      "|shehusani sir fel...|  0.6124|\n",
      "|cbngov_akin1 ayoo...|  0.1027|\n",
      "|chimaobi_nteoma l...|  0.4939|\n",
      "|dailypostngr may ...| -0.7203|\n",
      "|emmy4life02 chiji...|  0.7711|\n",
      "|obi coming ! 's p...|  0.4389|\n",
      "|peter obi support...|  0.6369|\n",
      "|okada rider feder...|  0.8718|\n",
      "|lmao : face_with_...|  0.2003|\n",
      "|drowsyrebel state...|  0.3054|\n",
      "|fbcruze annie_xox...|   0.296|\n",
      "|election , sharin...|   0.636|\n",
      "|structure 6 senat...|  0.4382|\n",
      "|drama tinubu arra...|  0.1531|\n",
      "|e peter obi never...|  0.2023|\n",
      "|renoomokri peter ...|  0.3612|\n",
      "|avoid tempering d...|  -0.296|\n",
      "|renoomokri sir ob...|  0.2732|\n",
      "|i_am_deomoluabi t...|  -0.784|\n",
      "+--------------------+--------+\n",
      "only showing top 20 rows\n"
     ]
    }
   ],
   "source": [
    "output_df=output_df.filter('compound!=0.0').select('reprocessed text','compound')\n",
    "output_df.show()"
   ]
  },
  {
   "cell_type": "code",
   "execution_count": 11,
   "metadata": {},
   "outputs": [
    {
     "name": "stdout",
     "output_type": "stream",
     "text": [
      "4247\n"
     ]
    }
   ],
   "source": [
    "output_df.count()"
   ]
  },
  {
   "cell_type": "code",
   "execution_count": 12,
   "metadata": {},
   "outputs": [
    {
     "name": "stdout",
     "output_type": "stream",
     "text": [
      "\n"
     ]
    }
   ],
   "source": [
    "from pyspark.sql.functions import when\n",
    "from pyspark.sql.functions import col"
   ]
  },
  {
   "cell_type": "code",
   "execution_count": 13,
   "metadata": {},
   "outputs": [
    {
     "name": "stdout",
     "output_type": "stream",
     "text": [
      "\n"
     ]
    }
   ],
   "source": [
    "output_df=output_df.withColumn('compound', col('compound').cast('float'))\n",
    "output_df=output_df.na.drop()"
   ]
  },
  {
   "cell_type": "code",
   "execution_count": 14,
   "metadata": {},
   "outputs": [
    {
     "name": "stdout",
     "output_type": "stream",
     "text": [
      "+--------------------+--------+---------+\n",
      "|    reprocessed text|compound|sentiment|\n",
      "+--------------------+--------+---------+\n",
      "|renoomokri campai...|  0.2263|        1|\n",
      "|shehusani sir fel...|  0.6124|        1|\n",
      "|cbngov_akin1 ayoo...|  0.1027|        1|\n",
      "|chimaobi_nteoma l...|  0.4939|        1|\n",
      "|dailypostngr may ...| -0.7203|        0|\n",
      "|emmy4life02 chiji...|  0.7711|        1|\n",
      "|obi coming ! 's p...|  0.4389|        1|\n",
      "|peter obi support...|  0.6369|        1|\n",
      "|okada rider feder...|  0.8718|        1|\n",
      "|lmao : face_with_...|  0.2003|        1|\n",
      "|drowsyrebel state...|  0.3054|        1|\n",
      "|fbcruze annie_xox...|   0.296|        1|\n",
      "|election , sharin...|   0.636|        1|\n",
      "|structure 6 senat...|  0.4382|        1|\n",
      "|drama tinubu arra...|  0.1531|        1|\n",
      "|e peter obi never...|  0.2023|        1|\n",
      "|renoomokri peter ...|  0.3612|        1|\n",
      "|avoid tempering d...|  -0.296|        0|\n",
      "|renoomokri sir ob...|  0.2732|        1|\n",
      "|i_am_deomoluabi t...|  -0.784|        0|\n",
      "+--------------------+--------+---------+\n",
      "only showing top 20 rows\n"
     ]
    }
   ],
   "source": [
    "output_df=output_df.withColumn('sentiment', when(output_df.compound > 0, 1).otherwise(0))\n",
    "output_df.show()"
   ]
  },
  {
   "cell_type": "code",
   "execution_count": null,
   "metadata": {},
   "outputs": [],
   "source": []
  },
  {
   "cell_type": "code",
   "execution_count": 15,
   "metadata": {},
   "outputs": [
    {
     "name": "stdout",
     "output_type": "stream",
     "text": [
      "+--------------------+---------+\n",
      "|    reprocessed text|sentiment|\n",
      "+--------------------+---------+\n",
      "|renoomokri campai...|        1|\n",
      "|shehusani sir fel...|        1|\n",
      "|cbngov_akin1 ayoo...|        1|\n",
      "|chimaobi_nteoma l...|        1|\n",
      "|dailypostngr may ...|        0|\n",
      "|emmy4life02 chiji...|        1|\n",
      "|obi coming ! 's p...|        1|\n",
      "|peter obi support...|        1|\n",
      "|okada rider feder...|        1|\n",
      "|lmao : face_with_...|        1|\n",
      "|drowsyrebel state...|        1|\n",
      "|fbcruze annie_xox...|        1|\n",
      "|election , sharin...|        1|\n",
      "|structure 6 senat...|        1|\n",
      "|drama tinubu arra...|        1|\n",
      "|e peter obi never...|        1|\n",
      "|renoomokri peter ...|        1|\n",
      "|avoid tempering d...|        0|\n",
      "|renoomokri sir ob...|        1|\n",
      "|i_am_deomoluabi t...|        0|\n",
      "+--------------------+---------+\n",
      "only showing top 20 rows\n"
     ]
    }
   ],
   "source": [
    "output_df=output_df.drop('compound')\n",
    "output_df.show()"
   ]
  },
  {
   "cell_type": "code",
   "execution_count": 16,
   "metadata": {},
   "outputs": [
    {
     "name": "stdout",
     "output_type": "stream",
     "text": [
      "{\"reprocessed text\": \"renoomokri campaign election yet obi still living rent-free head . brother winning election hor senate attack peter obi . sure everything still ok . see see madness\", \"sentiment\": 1}\n",
      "{\"reprocessed text\": \"shehusani sir fellowing tweet 's lately truth 's ( peter obi ) people wish normal really sane country\", \"sentiment\": 1}\n",
      "{\"reprocessed text\": \"cbngov_akin1 ayooyalowo woye1 fkeyamo realffk officialabat officialdssng equityoyo instablog9ja mr_jags journalist_mind lol . cornfused apc miscreant cease amaze u . someone obviously s , foolishly disguising igbo man attack peter obi . try , see truth lie .\", \"sentiment\": 1}\n",
      "{\"reprocessed text\": \"chimaobi_nteoma leonard50310709 markessien apc guy keep playing people . learn ? allow peter obi legal team job\", \"sentiment\": 1}\n",
      "{\"reprocessed text\": \"dailypostngr may god forgive . 're deception personified . atiku n't rig abi ? know peter obi . incapable fraud !\", \"sentiment\": 0}\n",
      "{\"reprocessed text\": \"emmy4life02 chijioke_edeoga need jitter . 's chosen one . n't like people say quote , `` think peter obi popularity reason lp got 80 % '' answer yes . edeoga benefit , peter emerged , would n't fly\", \"sentiment\": 1}\n",
      "{\"reprocessed text\": \"obi coming ! 's pain peter obi bcuz presidency rotationally coming back south 16yrs . obi 80yr+ . think se shld play gud politics go prepare well . play ethnic religious politics : person_shrugging :\", \"sentiment\": 1}\n",
      "{\"reprocessed text\": \"peter obi supporter react presidential candidate asking respect court premise . # peterobi http : //t.co/masap6aryh\", \"sentiment\": 1}\n",
      "{\"reprocessed text\": \"okada rider federal lawmaker . peter obi effect ! hon donatus matthew kaura fed . constituency , kaduna state get certificate return thanks peter obi . thank labour party thank obidient nigerian making history http : //t.co/o4qgdij0ks\", \"sentiment\": 1}\n",
      "{\"reprocessed text\": \"lmao : face_with_tears_of_joy : ’ sorry lot team honestly d^mb af ! guy wanted denigrate po . look , ’ imagine ridiculous feel . even governorship candidate jandor peter obi ’ picture campaign jingle atiku . clown : clown_face :\", \"sentiment\": 1}\n",
      "{\"reprocessed text\": \"drowsyrebel state like benue giving vote muslim-muslim ticket nothing . clearly , lot christian ’ buy nonsense . enough strength alliance right permanently comfortably keep peter obi ’ brand hate outside main hall power .\", \"sentiment\": 1}\n",
      "{\"reprocessed text\": \"fbcruze annie_xoxo2 omo_olobikan yeah experience peter obi need politically- obi boy\", \"sentiment\": 1}\n",
      "{\"reprocessed text\": \"election , sharing video voting south east , compliance sit-at-home & amp ; come & amp ; complains election outcome costing peter obi precious vote east ? !\", \"sentiment\": 1}\n",
      "{\"reprocessed text\": \"structure 6 senator 34 house representative member . never underestimate man loaded vision . peterobi : raising_hands :\", \"sentiment\": 1}\n",
      "{\"reprocessed text\": \"drama tinubu arrange 50 sans peter obi lp atiku abubakar pdp hired 20 19 sans respectively challenge outcome february 25 presidential election , making total 89 sans legal battle determine actually . obidients abuja http : //t.co/iloybog0nf\", \"sentiment\": 1}\n",
      "{\"reprocessed text\": \"e peter obi never bee . omo agege wetin dey call name , stunt wo n't work vote # lp top bottom # deltadecides\", \"sentiment\": 1}\n",
      "{\"reprocessed text\": \"renoomokri peter obi capable standing follower truthful citizen fight injustice . 's wise go another political party name unity fight corruption done electoral body . n't think would succumb idea .\", \"sentiment\": 1}\n",
      "{\"reprocessed text\": \"avoid tempering device cost inspection peter obi atiku abubakar\", \"sentiment\": 0}\n",
      "{\"reprocessed text\": \"renoomokri sir obsession excellency peter obi something else\", \"sentiment\": 1}\n",
      "{\"reprocessed text\": \"i_am_deomoluabi terrible people resident country : thinking_face : .... horrible soul : red_exclamation_mark : . peter obi talking ? tufiakwa !\", \"sentiment\": 0}\n"
     ]
    }
   ],
   "source": [
    "#Convert from Spark Data Frame to Glue Dynamic Frame\n",
    "dyfCustomersConvert = DynamicFrame.fromDF(output_df, glueContext, \"convert\")\n",
    "\n",
    "#Show converted Glue Dynamic Frame\n",
    "dyfCustomersConvert.show()"
   ]
  },
  {
   "cell_type": "code",
   "execution_count": 17,
   "metadata": {},
   "outputs": [
    {
     "name": "stdout",
     "output_type": "stream",
     "text": [
      "<awsglue.dynamicframe.DynamicFrame object at 0x7ff581f2dc50>\n"
     ]
    }
   ],
   "source": [
    "glueContext.write_dynamic_frame.from_options(frame = dyfCustomersConvert,\n",
    "                                             connection_type = \"s3\",\n",
    "                                             connection_options = {\"path\": \"s3://myoyebucket/output\"},\n",
    "                                             format = \"csv\")"
   ]
  },
  {
   "cell_type": "code",
   "execution_count": 18,
   "metadata": {},
   "outputs": [
    {
     "name": "stdout",
     "output_type": "stream",
     "text": [
      "                                    reprocessed text  sentiment\n",
      "0  renoomokri campaign election yet obi still liv...          1\n",
      "1  shehusani sir fellowing tweet 's lately truth ...          1\n",
      "2  cbngov_akin1 ayooyalowo woye1 fkeyamo realffk ...          1\n",
      "3  chimaobi_nteoma leonard50310709 markessien apc...          1\n",
      "4  dailypostngr may god forgive . 're deception p...          0\n"
     ]
    }
   ],
   "source": [
    "data=output_df.toPandas()\n",
    "data.head(5)"
   ]
  },
  {
   "cell_type": "code",
   "execution_count": 19,
   "metadata": {},
   "outputs": [
    {
     "name": "stdout",
     "output_type": "stream",
     "text": [
      "\n"
     ]
    }
   ],
   "source": [
    "def remove_punc(text):\n",
    "    final=''.join(u for u in  text if u not in('?',',','.',':','!','\"'))\n",
    "    return final"
   ]
  },
  {
   "cell_type": "code",
   "execution_count": 20,
   "metadata": {},
   "outputs": [
    {
     "name": "stdout",
     "output_type": "stream",
     "text": [
      "                                    reprocessed text  ...                                         final text\n",
      "0  renoomokri campaign election yet obi still liv...  ...  renoomokri campaign election yet obi still liv...\n",
      "1  shehusani sir fellowing tweet 's lately truth ...  ...  shehusani sir fellowing tweet 's lately truth ...\n",
      "2  cbngov_akin1 ayooyalowo woye1 fkeyamo realffk ...  ...  cbngov_akin1 ayooyalowo woye1 fkeyamo realffk ...\n",
      "3  chimaobi_nteoma leonard50310709 markessien apc...  ...  chimaobi_nteoma leonard50310709 markessien apc...\n",
      "4  dailypostngr may god forgive . 're deception p...  ...  dailypostngr may god forgive  're deception pe...\n",
      "\n",
      "[5 rows x 3 columns]\n"
     ]
    }
   ],
   "source": [
    "data['final text']=data['reprocessed text'].apply(remove_punc)\n",
    "data.head(5)"
   ]
  },
  {
   "cell_type": "code",
   "execution_count": 21,
   "metadata": {},
   "outputs": [
    {
     "name": "stdout",
     "output_type": "stream",
     "text": [
      "   sentiment                                         final text\n",
      "0          1  renoomokri campaign election yet obi still liv...\n",
      "1          1  shehusani sir fellowing tweet 's lately truth ...\n",
      "2          1  cbngov_akin1 ayooyalowo woye1 fkeyamo realffk ...\n",
      "3          1  chimaobi_nteoma leonard50310709 markessien apc...\n",
      "4          0  dailypostngr may god forgive  're deception pe...\n"
     ]
    }
   ],
   "source": [
    "data.drop('reprocessed text',axis=1,inplace =True)\n",
    "data.head(5)"
   ]
  },
  {
   "cell_type": "code",
   "execution_count": 22,
   "metadata": {},
   "outputs": [
    {
     "name": "stdout",
     "output_type": "stream",
     "text": [
      "\n"
     ]
    }
   ],
   "source": [
    "import numpy as np\n",
    "import pandas as pd\n",
    "from sklearn.linear_model import LogisticRegression\n",
    "from sklearn.model_selection import train_test_split\n",
    "from sklearn.metrics import accuracy_score, precision_score, recall_score, f1_score, roc_curve, auc,confusion_matrix\n",
    "from sklearn.feature_extraction.text import CountVectorizer\n"
   ]
  },
  {
   "cell_type": "code",
   "execution_count": 23,
   "metadata": {},
   "outputs": [
    {
     "name": "stdout",
     "output_type": "stream",
     "text": [
      "\n"
     ]
    }
   ],
   "source": [
    "y=data['sentiment']\n",
    "X=data['final text']"
   ]
  },
  {
   "cell_type": "code",
   "execution_count": 24,
   "metadata": {},
   "outputs": [
    {
     "name": "stdout",
     "output_type": "stream",
     "text": [
      "\n"
     ]
    }
   ],
   "source": [
    "vectorizer = CountVectorizer()"
   ]
  },
  {
   "cell_type": "code",
   "execution_count": 25,
   "metadata": {},
   "outputs": [
    {
     "name": "stdout",
     "output_type": "stream",
     "text": [
      "\n"
     ]
    }
   ],
   "source": [
    "vectorizer.fit(X)\n",
    "\n",
    "X=vectorizer.transform(X)"
   ]
  },
  {
   "cell_type": "code",
   "execution_count": 26,
   "metadata": {},
   "outputs": [
    {
     "name": "stdout",
     "output_type": "stream",
     "text": [
      "\n"
     ]
    }
   ],
   "source": [
    "X_train, X_test, y_train, y_test = train_test_split(X, y, test_size=0.2, random_state=42)"
   ]
  },
  {
   "cell_type": "code",
   "execution_count": 27,
   "metadata": {},
   "outputs": [
    {
     "name": "stdout",
     "output_type": "stream",
     "text": [
      "LogisticRegression(random_state=42, solver='liblinear')\n"
     ]
    }
   ],
   "source": [
    "from sklearn.feature_extraction.text import CountVectorizer\n",
    "from sklearn.linear_model import LogisticRegression\n",
    "\n",
    "# Example training data\n",
    "X_train = X\n",
    "y_train = y # Binary labels\n",
    "\n",
    "# Create a CountVectorizer object and fit it to the training data\n",
    "\n",
    "\n",
    "vectorizer = CountVectorizer()\n",
    "vectorizer.fit(X_train)\n",
    "X = vectorizer.fit_transform(X_train)\n",
    "\n",
    "# Train a logistic regression model\n",
    "\n",
    "X_train, X_test, y_train, y_test = train_test_split(X, y, test_size=0.2, random_state=42)\n",
    "\n",
    "\n",
    "\n",
    "clf = LogisticRegression()\n",
    "clf.fit(X_train, y_train)"
   ]
  },
  {
   "cell_type": "code",
   "execution_count": 29,
   "metadata": {},
   "outputs": [
    {
     "name": "stdout",
     "output_type": "stream",
     "text": [
      "Accuracy: 0.7752941176470588\n",
      "Precision score: 0.8067226890756303\n"
     ]
    }
   ],
   "source": [
    "y_pred = model.predict(X_test)  # make predictions on test data\n",
    "acc = accuracy_score(y_test, y_pred)  # calculate accuracy score\n",
    "prec = precision_score(y_test, y_pred)  # calculate precision score\n",
    "rec = recall_score(y_test, y_pred)  # calculate recall score\n",
    "f1 = f1_score(y_test, y_pred)  # calculate F1 score\n",
    "fpr, tpr, thresholds = roc_curve(y_test, y_pred)  # calculate ROC curve and AUC score\n",
    "auc_score = auc(fpr, tpr)\n",
    "print('Accuracy:',acc)\n",
    "print('Precision score:',prec)"
   ]
  },
  {
   "cell_type": "code",
   "execution_count": 30,
   "metadata": {},
   "outputs": [
    {
     "name": "stdout",
     "output_type": "stream",
     "text": [
      "array([[179,  76],\n",
      "       [115, 480]])\n"
     ]
    }
   ],
   "source": [
    "confusion_matrix(y_pred,y_test)"
   ]
  },
  {
   "cell_type": "code",
   "execution_count": null,
   "metadata": {},
   "outputs": [],
   "source": []
  }
 ],
 "metadata": {
  "kernelspec": {
   "display_name": "Python 3 (ipykernel)",
   "language": "python",
   "name": "python3"
  },
  "language_info": {
   "codemirror_mode": {
    "name": "ipython",
    "version": 3
   },
   "file_extension": ".py",
   "mimetype": "text/x-python",
   "name": "python",
   "nbconvert_exporter": "python",
   "pygments_lexer": "ipython3",
   "version": "3.9.13"
  }
 },
 "nbformat": 4,
 "nbformat_minor": 4
}
